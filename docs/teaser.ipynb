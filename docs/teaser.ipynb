{
 "cells": [
  {
   "cell_type": "markdown",
   "metadata": {},
   "source": [
    "# PyZeta Teaser"
   ]
  },
  {
   "cell_type": "markdown",
   "metadata": {},
   "source": [
    "## Imports"
   ]
  },
  {
   "cell_type": "code",
   "execution_count": 10,
   "metadata": {},
   "outputs": [],
   "source": [
    "from typing import List\n",
    "\n",
    "import numpy as np\n",
    "import matplotlib.pyplot as plt\n",
    "\n",
    "from pyzeal.rootfinders.rootfinder import RootFinder\n",
    "from pyzeal.pyzeal_types.algorithm_types import AlgorithmTypes\n",
    "from pyzeal.pyzeal_types.estimator_types import EstimatorTypes\n",
    "\n",
    "from pyzeta.core.pyzeta_types.function_systems import FunctionSystemType\n",
    "\n",
    "from pyzeta.framework.initialization.initialization_handler import (\n",
    "    PyZetaInitializationHandler,\n",
    ")\n",
    "from pyzeta.core.zetas.selberg_zeta import SelbergZeta\n",
    "\n",
    "PyZetaInitializationHandler.initPyZetaServices()\n"
   ]
  },
  {
   "cell_type": "markdown",
   "metadata": {},
   "source": [
    "## Hyperbolic Cylinder Resonances"
   ]
  },
  {
   "cell_type": "code",
   "execution_count": 13,
   "metadata": {},
   "outputs": [
    {
     "data": {
      "text/html": [
       "<pre style=\"white-space:pre;overflow-x:auto;line-height:normal;font-family:Menlo,'DejaVu Sans Mono',consolas,'Courier New',monospace\"></pre>\n"
      ],
      "text/plain": []
     },
     "metadata": {},
     "output_type": "display_data"
    },
    {
     "data": {
      "text/html": [
       "<pre style=\"white-space:pre;overflow-x:auto;line-height:normal;font-family:Menlo,'DejaVu Sans Mono',consolas,'Courier New',monospace\">\n",
       "</pre>\n"
      ],
      "text/plain": [
       "\n"
      ]
     },
     "metadata": {},
     "output_type": "display_data"
    },
    {
     "data": {
      "text/html": [
       "<pre style=\"white-space:pre;overflow-x:auto;line-height:normal;font-family:Menlo,'DejaVu Sans Mono',consolas,'Courier New',monospace\"></pre>\n"
      ],
      "text/plain": []
     },
     "metadata": {},
     "output_type": "display_data"
    },
    {
     "data": {
      "text/html": [
       "<pre style=\"white-space:pre;overflow-x:auto;line-height:normal;font-family:Menlo,'DejaVu Sans Mono',consolas,'Courier New',monospace\">\n",
       "</pre>\n"
      ],
      "text/plain": [
       "\n"
      ]
     },
     "metadata": {},
     "output_type": "display_data"
    },
    {
     "data": {
      "image/png": "[encoded data removed]",
      "text/plain": [
       "<Figure size 640x480 with 1 Axes>"
      ]
     },
     "metadata": {},
     "output_type": "display_data"
    }
   ],
   "source": [
    "# calculate quantum resonances for Schottky and flow adapted cylinders\n",
    "initArgs = {\"funnelWidth\": 10.0, \"rotate\": False}\n",
    "width = initArgs[\"funnelWidth\"]\n",
    "nMax = 8\n",
    "\n",
    "# TODO: refactor into functions; call on separate cells!\n",
    "for systemType in [\n",
    "    FunctionSystemType.HYPERBOLIC_CYLINDER,\n",
    "    FunctionSystemType.FLOW_CYLINDER,\n",
    "]:\n",
    "    zeta = SelbergZeta(\n",
    "        functionSystem=FunctionSystemType.HYPERBOLIC_CYLINDER,\n",
    "        systemInitArgs=initArgs,\n",
    "    )\n",
    "\n",
    "    finder = RootFinder(\n",
    "        f=lambda s: zeta(s, nMax=nMax),\n",
    "        algorithmType=AlgorithmTypes.SIMPLE_ARGUMENT,\n",
    "        estimatorType=EstimatorTypes.SUMMATION_ESTIMATOR,\n",
    "    )\n",
    "\n",
    "    finder.calculateRoots(\n",
    "        reRan=(-1.1, 1.1), imRan=(-2.2, 2.2), precision=(3, 2)\n",
    "    )\n",
    "\n",
    "    plt.scatter(finder.roots.real, finder.roots.imag)\n"
   ]
  },
  {
   "cell_type": "code",
   "execution_count": 14,
   "metadata": {},
   "outputs": [],
   "source": [
    "# calculate classical resonances for Schottky and flow adapted cylinders"
   ]
  },
  {
   "cell_type": "markdown",
   "metadata": {},
   "source": [
    "## Funneled Torus Resonances"
   ]
  },
  {
   "cell_type": "code",
   "execution_count": 2,
   "metadata": {},
   "outputs": [],
   "source": [
    "# calculate qm and cl resonances around delta-1 for both coordinate choices\n"
   ]
  },
  {
   "cell_type": "markdown",
   "metadata": {},
   "source": [
    "## Hyperbolic Cylinder Ruelle Distributions"
   ]
  },
  {
   "cell_type": "code",
   "execution_count": 4,
   "metadata": {},
   "outputs": [],
   "source": [
    "# calculate Ruelle distributions at delta-1 for Schottky and flow-adapted\n",
    "# plot Poincare section and fundamental domain side-by-side\n"
   ]
  },
  {
   "cell_type": "markdown",
   "metadata": {},
   "source": [
    "## Funneled Torus Ruelle Distributions"
   ]
  },
  {
   "cell_type": "code",
   "execution_count": 6,
   "metadata": {},
   "outputs": [],
   "source": [
    "# calculate Ruelle distributions at delta-1 for both coordinate choices\n",
    "# plot Poincare section and fundamental domain side-by-side\n"
   ]
  }
 ],
 "metadata": {
  "kernelspec": {
   "display_name": "Python 3",
   "language": "python",
   "name": "python3"
  },
  "language_info": {
   "codemirror_mode": {
    "name": "ipython",
    "version": 3
   },
   "file_extension": ".py",
   "mimetype": "text/x-python",
   "name": "python",
   "nbconvert_exporter": "python",
   "pygments_lexer": "ipython3",
   "version": "3.11.2"
  },
  "orig_nbformat": 4
 },
 "nbformat": 4,
 "nbformat_minor": 2
}
