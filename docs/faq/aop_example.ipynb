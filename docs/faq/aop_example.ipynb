{
 "cells": [
  {
   "attachments": {},
   "cell_type": "markdown",
   "metadata": {},
   "source": [
    "# How to use the PyZeta AOP framework"
   ]
  },
  {
   "attachments": {},
   "cell_type": "markdown",
   "metadata": {},
   "source": [
    "## Imports"
   ]
  },
  {
   "cell_type": "code",
   "execution_count": 1,
   "metadata": {},
   "outputs": [],
   "source": [
    "# some standard library imports\n",
    "from os import remove\n",
    "from typing import Any, List\n",
    "\n",
    "# the core imports for writing your custom logic and the plugin\n",
    "from pyzeta.framework.aop.analyzers.profiling_advice import ProfilingAdvice\n",
    "from pyzeta.framework.aop.analyzers.stats import StatsReader\n",
    "from pyzeta.framework.aop.point_cut import PointCut\n",
    "from pyzeta.framework.aop.rule import Rule\n",
    "from pyzeta.framework.aop.aspect import Aspect\n",
    "from pyzeta.framework.aop.advice import Advice\n",
    "from pyzeta.framework.initialization.initialization_handler import (\n",
    "    PyZetaInitializationHandler\n",
    ")\n",
    "\n",
    "PyZetaInitializationHandler.initPyZetaServices()"
   ]
  },
  {
   "attachments": {},
   "cell_type": "markdown",
   "metadata": {},
   "source": [
    "## Prepare the Example Class"
   ]
  },
  {
   "cell_type": "code",
   "execution_count": 2,
   "metadata": {},
   "outputs": [
    {
     "name": "stdout",
     "output_type": "stream",
     "text": [
      "original method: PyZeta.MyClass!\n",
      "Hello World!\n"
     ]
    }
   ],
   "source": [
    "class MyClass:\n",
    "    \"Simple example class with two methods, one of which is to be profiled.\"\n",
    "\n",
    "    def __init__(self, attr1: str, attr2: bool) -> None:\n",
    "        \"Initialize the example class with example data.\"\n",
    "        self.attr1 = attr1\n",
    "        self.attr2 = attr2\n",
    "\n",
    "    def method1(self, arg1: int) -> None:\n",
    "        \"Print an instance attribute and a value calculated from an argument.\"\n",
    "        counter = self._count(arg1)\n",
    "        print(f\"original method: {self.attr2}, {counter}!\")\n",
    "\n",
    "    def _count(self, limit: int) -> None:\n",
    "        \"Count stuff to make profiles look more interesting.\"\n",
    "        counter = 0\n",
    "        for _ in range(limit):\n",
    "            counter += 1\n",
    "        return counter\n",
    "\n",
    "    def method2(self) -> str:\n",
    "        \"Return a constant string after printing an instance attribute.\"\n",
    "        print(f\"original method: {self.attr1}!\")\n",
    "        return \"Hello World!\"\n",
    "\n",
    "# create an object for later demonstrations;\n",
    "# aspects apply globally, even to objects created before advice application!\n",
    "obj = MyClass(\"PyZeta.MyClass\", False)\n",
    "# verify the original functionality of MyClass.method2\n",
    "print(obj.method2())"
   ]
  },
  {
   "attachments": {},
   "cell_type": "markdown",
   "metadata": {},
   "source": [
    "### First Example: Use the Pre-Defined Profiling Advice"
   ]
  },
  {
   "cell_type": "code",
   "execution_count": 3,
   "metadata": {},
   "outputs": [],
   "source": [
    "# create the advice and a point cut at which to apply it\n",
    "fileName = \"myclass_method1\"\n",
    "profilingAdvice: Advice[None, Any] = ProfilingAdvice(fileName)\n",
    "pointCut: PointCut = PointCut(\".*1\")\n",
    "# remove any previous statistics files\n",
    "remove(fileName + ProfilingAdvice.extension)\n",
    "# combine advice and point cut into a list of rules\n",
    "rules: List[Rule[None, Any]] = [Rule(pointCut, profilingAdvice)]\n",
    "# create the aspect from the list of rules\n",
    "aspect: Aspect[MyClass, None, Any] = Aspect(rules=rules)\n",
    "# apply the aspect to the example class - profiling of MyClass.method1 is now enabled!\n",
    "aspect(MyClass)"
   ]
  },
  {
   "cell_type": "code",
   "execution_count": 4,
   "metadata": {},
   "outputs": [
    {
     "name": "stdout",
     "output_type": "stream",
     "text": [
      "original method: False, 1000000!\n",
      "original method: PyZeta.MyClass!\n",
      "Hello World!\n",
      "--------------------------------------------------\n",
      "Tue Jul 25 17:53:25 2023    myclass_method1.cprofile\n",
      "\n",
      "         29 function calls in 0.084 seconds\n",
      "\n",
      "   Ordered by: internal time\n",
      "\n",
      "   ncalls  tottime  percall  cumtime  percall filename:lineno(function)\n",
      "        1    0.084    0.084    0.084    0.084 2413965010.py:14(_count)\n",
      "        1    0.000    0.000    0.000    0.000 socket.py:621(send)\n",
      "        2    0.000    0.000    0.000    0.000 iostream.py:610(write)\n",
      "        1    0.000    0.000    0.000    0.000 iostream.py:243(schedule)\n",
      "        1    0.000    0.000    0.084    0.084 2413965010.py:9(method1)\n",
      "        1    0.000    0.000    0.000    0.000 {built-in method builtins.print}\n",
      "        1    0.000    0.000    0.000    0.000 profiling_advice.py:44(_stop)\n",
      "        1    0.000    0.000    0.000    0.000 threading.py:1185(is_alive)\n",
      "        2    0.000    0.000    0.000    0.000 iostream.py:532(_schedule_flush)\n",
      "        2    0.000    0.000    0.000    0.000 iostream.py:505(_is_master_process)\n",
      "        2    0.000    0.000    0.000    0.000 {built-in method posix.getpid}\n",
      "        1    0.000    0.000    0.000    0.000 iostream.py:127(_event_pipe)\n",
      "        1    0.000    0.000    0.000    0.000 threading.py:1118(_wait_for_tstate_lock)\n",
      "        1    0.000    0.000    0.000    0.000 {method 'acquire' of '_thread.lock' objects}\n",
      "        2    0.000    0.000    0.000    0.000 {method 'write' of '_io.StringIO' objects}\n",
      "        2    0.000    0.000    0.000    0.000 {built-in method builtins.isinstance}\n",
      "        1    0.000    0.000    0.000    0.000 {method 'disable' of '_lsprof.Profiler' objects}\n",
      "        2    0.000    0.000    0.000    0.000 {built-in method builtins.len}\n",
      "        2    0.000    0.000    0.000    0.000 {method '__exit__' of '_thread.RLock' objects}\n",
      "        1    0.000    0.000    0.000    0.000 threading.py:568(is_set)\n",
      "        1    0.000    0.000    0.000    0.000 {method 'append' of 'collections.deque' objects}\n",
      "\n",
      "\n"
     ]
    }
   ],
   "source": [
    "# run MyClass.method1 to record a profile\n",
    "obj.method1(arg1=1_000_000)\n",
    "# verify that MyClass.method2 was not affected\n",
    "print(obj.method2())\n",
    "# use the static helper to display the profile\n",
    "print(\"-\" * 50)\n",
    "StatsReader.printStats(filename=fileName + ProfilingAdvice.extension)"
   ]
  },
  {
   "attachments": {},
   "cell_type": "markdown",
   "metadata": {},
   "source": [
    "### Second Example: Define Custom Advice"
   ]
  },
  {
   "cell_type": "code",
   "execution_count": 5,
   "metadata": {},
   "outputs": [],
   "source": [
    "# define two pieces of advice for subsequent application\n",
    "advice1: Advice[str, Any] = Advice(\n",
    "    lambda *args, **kwargs: print(f\"advice1 pre: {args=}, {kwargs=}\"),\n",
    "    lambda returnArg, *args, **kwargs: (\n",
    "        f\"advice1 post: {returnArg=}, {args=}, {kwargs=}\"\n",
    "    ),\n",
    ")\n",
    "advice2: Advice[str, Any] = Advice(\n",
    "    lambda *args, **kwargs: print(f\"advice2 pre: {args=}, {kwargs=}\"),\n",
    "    lambda returnArg, *args, **kwargs: (\n",
    "        f\"advice2 post: {returnArg=}, {args=}, {kwargs=}\"\n",
    "    ),\n",
    ")\n",
    "# define a point cut that filters for MyClass.method2\n",
    "pointCut: PointCut = PointCut(\".*2\")\n",
    "# combine the pieces of advice and the point cut into a list of rules\n",
    "rules: List[Rule[str, Any]] = [Rule(pointCut, advice1), Rule(pointCut, advice2)]\n",
    "# create the aspect from the list of rules\n",
    "aspect: Aspect[MyClass, str, Any] = Aspect(rules=rules)\n",
    "# apply the aspect - MyClass.method2 is now wrapped with additional print statements!\n",
    "aspect(MyClass)"
   ]
  },
  {
   "cell_type": "code",
   "execution_count": 6,
   "metadata": {},
   "outputs": [
    {
     "name": "stdout",
     "output_type": "stream",
     "text": [
      "advice2 pre: args=(<__main__.MyClass object at 0x7fd71c349610>,), kwargs={}\n",
      "advice1 pre: args=(<__main__.MyClass object at 0x7fd71c349610>,), kwargs={}\n",
      "original method: PyZeta.MyClass!\n",
      "advice2 post: returnArg=\"advice1 post: returnArg='Hello World!', args=(<__main__.MyClass object at 0x7fd71c349610>,), kwargs={}\", args=(<__main__.MyClass object at 0x7fd71c349610>,), kwargs={}\n"
     ]
    }
   ],
   "source": [
    "# run MyClass.method2 to observe the logic added by the aspect\n",
    "print(obj.method2())"
   ]
  }
 ],
 "metadata": {
  "kernelspec": {
   "display_name": "Python 3 (ipykernel)",
   "language": "python",
   "name": "python3"
  },
  "language_info": {
   "codemirror_mode": {
    "name": "ipython",
    "version": 3
   },
   "file_extension": ".py",
   "mimetype": "text/x-python",
   "name": "python",
   "nbconvert_exporter": "python",
   "pygments_lexer": "ipython3",
   "version": "3.11.3"
  }
 },
 "nbformat": 4,
 "nbformat_minor": 4
}
